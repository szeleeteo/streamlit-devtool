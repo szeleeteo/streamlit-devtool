{
 "cells": [
  {
   "cell_type": "code",
   "execution_count": 1,
   "id": "4406c996-c3ce-48ce-9ec8-2a55aa5e8558",
   "metadata": {
    "tags": []
   },
   "outputs": [],
   "source": [
    "import warnings\n",
    "\n",
    "import spacy\n",
    "from spacy import displacy\n",
    "\n",
    "warnings.filterwarnings(\"ignore\", category=UserWarning)"
   ]
  },
  {
   "cell_type": "code",
   "execution_count": 2,
   "id": "3115786a-2d38-461b-9944-6b3f0cbced8c",
   "metadata": {
    "tags": []
   },
   "outputs": [],
   "source": [
    "ALL_KEYWORDS = [\n",
    "    \"revenue\",\n",
    "    \"earning\",\n",
    "    \"customer\",\n",
    "    \"user\",\n",
    "    \"sale\",\n",
    "    \"income\",\n",
    "    \"download\",\n",
    "    \"install\",\n",
    "    \"traffic\",\n",
    "    \"profit\",\n",
    "]"
   ]
  },
  {
   "cell_type": "code",
   "execution_count": 3,
   "id": "26a0eeb5-4f54-4ff9-bc68-b2561514d022",
   "metadata": {
    "tags": []
   },
   "outputs": [
    {
     "data": {
      "text/plain": [
       "'Apple today announced financial results for its fiscal 2022 second quarter ended March 26, 2022. The company posted a March quarter revenue record of $97.3 billion, up 9 percent year over year, and quarterly earnings per diluted share of $1.52.'"
      ]
     },
     "execution_count": 3,
     "metadata": {},
     "output_type": "execute_result"
    }
   ],
   "source": [
    "default_text = (\n",
    "    \"Apple today announced financial results for its fiscal 2022 second \"\n",
    "    \"quarter ended March 26, 2022. The company posted a March quarter \"\n",
    "    \"revenue record of $97.3 billion, up 9 percent year over year, and \"\n",
    "    \"quarterly earnings per diluted share of $1.52.\"\n",
    ")\n",
    "\n",
    "input_text = default_text\n",
    "input_text"
   ]
  },
  {
   "cell_type": "code",
   "execution_count": 4,
   "id": "d0adf097-9932-40a7-8408-9633ed0106bd",
   "metadata": {
    "tags": []
   },
   "outputs": [],
   "source": [
    "models = [\n",
    "    \"en_core_web_sm\",  # lighter, faster, less accurate\n",
    "    \"en_core_web_trf\",  # heavier, slower, more accurate\n",
    "]\n",
    "model = models[0]\n",
    "nlp = spacy.load(model)"
   ]
  },
  {
   "cell_type": "code",
   "execution_count": 5,
   "id": "241da7ba-2a98-4bd7-997d-c4765fee923a",
   "metadata": {
    "tags": []
   },
   "outputs": [],
   "source": [
    "# NER = Named-entity recognition\n",
    "ALL_NER_TYPES = list(nlp.get_pipe(\"ner\").labels)"
   ]
  },
  {
   "cell_type": "code",
   "execution_count": 6,
   "id": "ed817604-3796-461c-83a7-6ea7f0af634e",
   "metadata": {
    "jupyter": {
     "source_hidden": true
    },
    "tags": []
   },
   "outputs": [],
   "source": [
    "def predict_with_awesome_ml_model(contents, ner_types=None, keywords=None):\n",
    "    if isinstance(contents, str):\n",
    "        contents = [contents]\n",
    "\n",
    "    displacy_options = {}\n",
    "    displacy_options[\"ents\"] = ner_types or []\n",
    "\n",
    "    if keywords:\n",
    "        growth_ent = \"GROWTH\"\n",
    "\n",
    "        if \"entity_ruler\" in nlp.pipe_names:\n",
    "            nlp.remove_pipe(\"entity_ruler\")\n",
    "        ruler = nlp.add_pipe(\"entity_ruler\")\n",
    "        patterns = [\n",
    "            {\"label\": growth_ent, \"pattern\": [{\"LEMMA\": kw}]} for kw in keywords\n",
    "        ]\n",
    "        ruler.add_patterns(patterns)\n",
    "\n",
    "        color = \"linear-gradient(45deg, yellow, red)\"\n",
    "        displacy_options[\"colors\"] = {growth_ent: color}\n",
    "        displacy_options[\"ents\"].append(growth_ent)\n",
    "\n",
    "    for content in contents:\n",
    "        doc = nlp(content)\n",
    "        displacy.render(doc, style=\"ent\", options=displacy_options)"
   ]
  },
  {
   "cell_type": "code",
   "execution_count": 7,
   "id": "43f0efd7-843b-471f-a433-377aa65a627e",
   "metadata": {
    "tags": []
   },
   "outputs": [
    {
     "data": {
      "text/html": [
       "<span class=\"tex2jax_ignore\"><div class=\"entities\" style=\"line-height: 2.5; direction: ltr\">Apple today announced financial results for its fiscal 2022 second quarter ended March 26, 2022. The company posted a March quarter \n",
       "<mark class=\"entity\" style=\"background: linear-gradient(45deg, yellow, red); padding: 0.45em 0.6em; margin: 0 0.25em; line-height: 1; border-radius: 0.35em;\">\n",
       "    revenue\n",
       "    <span style=\"font-size: 0.8em; font-weight: bold; line-height: 1; border-radius: 0.35em; vertical-align: middle; margin-left: 0.5rem\">GROWTH</span>\n",
       "</mark>\n",
       " record of $97.3 billion, up 9 percent year over year, and quarterly \n",
       "<mark class=\"entity\" style=\"background: linear-gradient(45deg, yellow, red); padding: 0.45em 0.6em; margin: 0 0.25em; line-height: 1; border-radius: 0.35em;\">\n",
       "    earnings\n",
       "    <span style=\"font-size: 0.8em; font-weight: bold; line-height: 1; border-radius: 0.35em; vertical-align: middle; margin-left: 0.5rem\">GROWTH</span>\n",
       "</mark>\n",
       " per diluted share of $1.52.</div></span>"
      ],
      "text/plain": [
       "<IPython.core.display.HTML object>"
      ]
     },
     "metadata": {},
     "output_type": "display_data"
    }
   ],
   "source": [
    "# use rule-based matching\n",
    "predict_with_awesome_ml_model(contents=input_text, keywords=ALL_KEYWORDS)"
   ]
  },
  {
   "cell_type": "code",
   "execution_count": 8,
   "id": "e40a4cbf-f8bd-4436-9d9a-d1599e7af774",
   "metadata": {
    "tags": []
   },
   "outputs": [
    {
     "data": {
      "text/html": [
       "<span class=\"tex2jax_ignore\"><div class=\"entities\" style=\"line-height: 2.5; direction: ltr\">\n",
       "<mark class=\"entity\" style=\"background: #7aecec; padding: 0.45em 0.6em; margin: 0 0.25em; line-height: 1; border-radius: 0.35em;\">\n",
       "    Apple\n",
       "    <span style=\"font-size: 0.8em; font-weight: bold; line-height: 1; border-radius: 0.35em; vertical-align: middle; margin-left: 0.5rem\">ORG</span>\n",
       "</mark>\n",
       " \n",
       "<mark class=\"entity\" style=\"background: #bfe1d9; padding: 0.45em 0.6em; margin: 0 0.25em; line-height: 1; border-radius: 0.35em;\">\n",
       "    today\n",
       "    <span style=\"font-size: 0.8em; font-weight: bold; line-height: 1; border-radius: 0.35em; vertical-align: middle; margin-left: 0.5rem\">DATE</span>\n",
       "</mark>\n",
       " announced financial results for \n",
       "<mark class=\"entity\" style=\"background: #bfe1d9; padding: 0.45em 0.6em; margin: 0 0.25em; line-height: 1; border-radius: 0.35em;\">\n",
       "    its fiscal 2022 second quarter ended March 26, 2022\n",
       "    <span style=\"font-size: 0.8em; font-weight: bold; line-height: 1; border-radius: 0.35em; vertical-align: middle; margin-left: 0.5rem\">DATE</span>\n",
       "</mark>\n",
       ". The company posted a \n",
       "<mark class=\"entity\" style=\"background: #bfe1d9; padding: 0.45em 0.6em; margin: 0 0.25em; line-height: 1; border-radius: 0.35em;\">\n",
       "    March quarter\n",
       "    <span style=\"font-size: 0.8em; font-weight: bold; line-height: 1; border-radius: 0.35em; vertical-align: middle; margin-left: 0.5rem\">DATE</span>\n",
       "</mark>\n",
       " revenue record of \n",
       "<mark class=\"entity\" style=\"background: #e4e7d2; padding: 0.45em 0.6em; margin: 0 0.25em; line-height: 1; border-radius: 0.35em;\">\n",
       "    $97.3 billion\n",
       "    <span style=\"font-size: 0.8em; font-weight: bold; line-height: 1; border-radius: 0.35em; vertical-align: middle; margin-left: 0.5rem\">MONEY</span>\n",
       "</mark>\n",
       ", up \n",
       "<mark class=\"entity\" style=\"background: #e4e7d2; padding: 0.45em 0.6em; margin: 0 0.25em; line-height: 1; border-radius: 0.35em;\">\n",
       "    9 percent\n",
       "    <span style=\"font-size: 0.8em; font-weight: bold; line-height: 1; border-radius: 0.35em; vertical-align: middle; margin-left: 0.5rem\">PERCENT</span>\n",
       "</mark>\n",
       " \n",
       "<mark class=\"entity\" style=\"background: #bfe1d9; padding: 0.45em 0.6em; margin: 0 0.25em; line-height: 1; border-radius: 0.35em;\">\n",
       "    year\n",
       "    <span style=\"font-size: 0.8em; font-weight: bold; line-height: 1; border-radius: 0.35em; vertical-align: middle; margin-left: 0.5rem\">DATE</span>\n",
       "</mark>\n",
       " over \n",
       "<mark class=\"entity\" style=\"background: #bfe1d9; padding: 0.45em 0.6em; margin: 0 0.25em; line-height: 1; border-radius: 0.35em;\">\n",
       "    year\n",
       "    <span style=\"font-size: 0.8em; font-weight: bold; line-height: 1; border-radius: 0.35em; vertical-align: middle; margin-left: 0.5rem\">DATE</span>\n",
       "</mark>\n",
       ", and \n",
       "<mark class=\"entity\" style=\"background: #bfe1d9; padding: 0.45em 0.6em; margin: 0 0.25em; line-height: 1; border-radius: 0.35em;\">\n",
       "    quarterly\n",
       "    <span style=\"font-size: 0.8em; font-weight: bold; line-height: 1; border-radius: 0.35em; vertical-align: middle; margin-left: 0.5rem\">DATE</span>\n",
       "</mark>\n",
       " earnings per diluted share of $\n",
       "<mark class=\"entity\" style=\"background: #e4e7d2; padding: 0.45em 0.6em; margin: 0 0.25em; line-height: 1; border-radius: 0.35em;\">\n",
       "    1.52\n",
       "    <span style=\"font-size: 0.8em; font-weight: bold; line-height: 1; border-radius: 0.35em; vertical-align: middle; margin-left: 0.5rem\">MONEY</span>\n",
       "</mark>\n",
       ".</div></span>"
      ],
      "text/plain": [
       "<IPython.core.display.HTML object>"
      ]
     },
     "metadata": {},
     "output_type": "display_data"
    }
   ],
   "source": [
    "# use machine learning named entity recognition\n",
    "predict_with_awesome_ml_model(input_text, ner_types=ALL_NER_TYPES)"
   ]
  },
  {
   "cell_type": "code",
   "execution_count": 9,
   "id": "4130a2bf-420a-4254-8fe8-c35d4b96232e",
   "metadata": {
    "tags": []
   },
   "outputs": [
    {
     "data": {
      "text/html": [
       "<span class=\"tex2jax_ignore\"><div class=\"entities\" style=\"line-height: 2.5; direction: ltr\">\n",
       "<mark class=\"entity\" style=\"background: #7aecec; padding: 0.45em 0.6em; margin: 0 0.25em; line-height: 1; border-radius: 0.35em;\">\n",
       "    Apple\n",
       "    <span style=\"font-size: 0.8em; font-weight: bold; line-height: 1; border-radius: 0.35em; vertical-align: middle; margin-left: 0.5rem\">ORG</span>\n",
       "</mark>\n",
       " today announced financial results for its fiscal 2022 second quarter ended March 26, 2022. The company posted a March quarter \n",
       "<mark class=\"entity\" style=\"background: linear-gradient(45deg, yellow, red); padding: 0.45em 0.6em; margin: 0 0.25em; line-height: 1; border-radius: 0.35em;\">\n",
       "    revenue\n",
       "    <span style=\"font-size: 0.8em; font-weight: bold; line-height: 1; border-radius: 0.35em; vertical-align: middle; margin-left: 0.5rem\">GROWTH</span>\n",
       "</mark>\n",
       " record of \n",
       "<mark class=\"entity\" style=\"background: #e4e7d2; padding: 0.45em 0.6em; margin: 0 0.25em; line-height: 1; border-radius: 0.35em;\">\n",
       "    $97.3 billion\n",
       "    <span style=\"font-size: 0.8em; font-weight: bold; line-height: 1; border-radius: 0.35em; vertical-align: middle; margin-left: 0.5rem\">MONEY</span>\n",
       "</mark>\n",
       ", up \n",
       "<mark class=\"entity\" style=\"background: #e4e7d2; padding: 0.45em 0.6em; margin: 0 0.25em; line-height: 1; border-radius: 0.35em;\">\n",
       "    9 percent\n",
       "    <span style=\"font-size: 0.8em; font-weight: bold; line-height: 1; border-radius: 0.35em; vertical-align: middle; margin-left: 0.5rem\">PERCENT</span>\n",
       "</mark>\n",
       " year over year, and quarterly \n",
       "<mark class=\"entity\" style=\"background: linear-gradient(45deg, yellow, red); padding: 0.45em 0.6em; margin: 0 0.25em; line-height: 1; border-radius: 0.35em;\">\n",
       "    earnings\n",
       "    <span style=\"font-size: 0.8em; font-weight: bold; line-height: 1; border-radius: 0.35em; vertical-align: middle; margin-left: 0.5rem\">GROWTH</span>\n",
       "</mark>\n",
       " per diluted share of $\n",
       "<mark class=\"entity\" style=\"background: #e4e7d2; padding: 0.45em 0.6em; margin: 0 0.25em; line-height: 1; border-radius: 0.35em;\">\n",
       "    1.52\n",
       "    <span style=\"font-size: 0.8em; font-weight: bold; line-height: 1; border-radius: 0.35em; vertical-align: middle; margin-left: 0.5rem\">MONEY</span>\n",
       "</mark>\n",
       ".</div></span>"
      ],
      "text/plain": [
       "<IPython.core.display.HTML object>"
      ]
     },
     "metadata": {},
     "output_type": "display_data"
    },
    {
     "name": "stdout",
     "output_type": "stream",
     "text": [
      "CPU times: user 17.1 ms, sys: 962 µs, total: 18 ms\n",
      "Wall time: 18.3 ms\n"
     ]
    }
   ],
   "source": [
    "%%time\n",
    "\n",
    "# combine rule-based + ML's NER\n",
    "growth_keywords = [\"revenue\", \"earning\", \"customer\"]\n",
    "quantifiable_types = [\"ORG\", \"CARDINAL\", \"ORDINAL\", \"PERCENT\", \"QUANTITY\", \"MONEY\"]\n",
    "\n",
    "predict_with_awesome_ml_model(\n",
    "    input_text, keywords=growth_keywords, ner_types=quantifiable_types\n",
    ")"
   ]
  },
  {
   "cell_type": "code",
   "execution_count": null,
   "id": "427fefba-fd50-4aef-90b9-64fb4af58468",
   "metadata": {},
   "outputs": [],
   "source": []
  }
 ],
 "metadata": {
  "kernelspec": {
   "display_name": "Python 3 (ipykernel)",
   "language": "python",
   "name": "python3"
  },
  "language_info": {
   "codemirror_mode": {
    "name": "ipython",
    "version": 3
   },
   "file_extension": ".py",
   "mimetype": "text/x-python",
   "name": "python",
   "nbconvert_exporter": "python",
   "pygments_lexer": "ipython3",
   "version": "3.8.13"
  }
 },
 "nbformat": 4,
 "nbformat_minor": 5
}
